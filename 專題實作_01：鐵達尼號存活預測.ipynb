{
  "nbformat": 4,
  "nbformat_minor": 0,
  "metadata": {
    "colab": {
      "provenance": [],
      "authorship_tag": "ABX9TyOYuQLQQ8q9QyZx537F7+A8",
      "include_colab_link": true
    },
    "kernelspec": {
      "name": "python3",
      "display_name": "Python 3"
    },
    "language_info": {
      "name": "python"
    }
  },
  "cells": [
    {
      "cell_type": "markdown",
      "metadata": {
        "id": "view-in-github",
        "colab_type": "text"
      },
      "source": [
        "<a href=\"https://colab.research.google.com/github/Yen60229/titanic-analysis/blob/main/%E5%B0%88%E9%A1%8C%E5%AF%A6%E4%BD%9C_01%EF%BC%9A%E9%90%B5%E9%81%94%E5%B0%BC%E8%99%9F%E5%AD%98%E6%B4%BB%E9%A0%90%E6%B8%AC.ipynb\" target=\"_parent\"><img src=\"https://colab.research.google.com/assets/colab-badge.svg\" alt=\"Open In Colab\"/></a>"
      ]
    },
    {
      "cell_type": "markdown",
      "source": [
        "環境準備\n"
      ],
      "metadata": {
        "id": "LOJtitdfD4Ht"
      }
    },
    {
      "cell_type": "code",
      "source": [
        "import pandas as pd\n",
        "!pip install -U -q PyDrive2\n",
        "from pydrive2.auth import GoogleAuth\n",
        "from pydrive2.drive import GoogleDrive\n",
        "from google.colab import auth\n",
        "from oauth2client.client import GoogleCredentials\n",
        "\n",
        "# Authenticate and create the PyDrive client.\n",
        "auth.authenticate_user()\n",
        "gauth = GoogleAuth()\n",
        "gauth.credentials = GoogleCredentials.get_application_default()\n",
        "drive = GoogleDrive(gauth)\n",
        "\n",
        "# The shareable link\n",
        "link = 'https://drive.google.com/file/d/1Takpz0-3LayrHP3j8mNhAiwzjUdMfya_/view?usp=drive_link'\n",
        "\n",
        "# Extract file ID from the link\n",
        "file_id = link.split('/d/')[1].split('/view')[0]\n",
        "print(file_id)  # 文件ID是在 /d/ 和 /view 之間的部分\n",
        "\n",
        "# Download the file from Google Drive\n",
        "downloaded = drive.CreateFile({'id': file_id})\n",
        "downloaded.GetContentFile('kaggle-titanic.csv')\n",
        "\n",
        "# Load the CSV into a DataFrame\n",
        "df3 = pd.read_csv('kaggle-titanic.csv')"
      ],
      "metadata": {
        "colab": {
          "base_uri": "https://localhost:8080/"
        },
        "id": "jqn_unsHRyiP",
        "outputId": "a30bee2d-0267-4610-d82b-c2d22d820107"
      },
      "execution_count": 23,
      "outputs": [
        {
          "output_type": "stream",
          "name": "stdout",
          "text": [
            "1Takpz0-3LayrHP3j8mNhAiwzjUdMfya_\n"
          ]
        }
      ]
    }
  ]
}